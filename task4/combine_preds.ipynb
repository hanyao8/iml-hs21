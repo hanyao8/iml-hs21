{
 "cells": [
  {
   "cell_type": "code",
   "execution_count": 15,
   "id": "9e45d946",
   "metadata": {
    "scrolled": true
   },
   "outputs": [
    {
     "name": "stdout",
     "output_type": "stream",
     "text": [
      "\u001b[34mjob_05_20_14_23_30\u001b[m\u001b[m         job_05_25_10_45_46_log.txt\r\n",
      "\u001b[34mjob_05_20_14_45_37\u001b[m\u001b[m         \u001b[34mjob_05_25_12_42_29\u001b[m\u001b[m\r\n",
      "\u001b[34mjob_05_20_14_59_59\u001b[m\u001b[m         \u001b[34mjob_05_25_12_56_28\u001b[m\u001b[m\r\n",
      "\u001b[34mjob_05_20_15_00_56\u001b[m\u001b[m         \u001b[34mjob_05_25_13_41_46\u001b[m\u001b[m\r\n",
      "\u001b[34mjob_05_20_15_10_10\u001b[m\u001b[m         \u001b[34mjob_05_25_15_14_21\u001b[m\u001b[m\r\n",
      "\u001b[34mjob_05_20_15_10_41\u001b[m\u001b[m         \u001b[34mjob_05_26_08_40_43\u001b[m\u001b[m\r\n",
      "\u001b[34mjob_05_20_15_11_26\u001b[m\u001b[m         \u001b[34mjob_05_26_08_55_31\u001b[m\u001b[m\r\n",
      "\u001b[34mjob_05_20_15_17_45\u001b[m\u001b[m         \u001b[34mjob_05_26_08_57_11\u001b[m\u001b[m\r\n",
      "\u001b[34mjob_05_20_17_16_03\u001b[m\u001b[m         \u001b[34mjob_05_26_14_50_07\u001b[m\u001b[m\r\n",
      "\u001b[34mjob_05_22_08_54_05\u001b[m\u001b[m         \u001b[34mjob_05_26_15_04_25\u001b[m\u001b[m\r\n",
      "\u001b[34mjob_05_22_12_25_34\u001b[m\u001b[m         \u001b[34mjob_05_27_11_52_53\u001b[m\u001b[m\r\n",
      "\u001b[34mjob_05_22_17_41_48\u001b[m\u001b[m         \u001b[34mjob_05_27_13_10_13\u001b[m\u001b[m\r\n",
      "\u001b[34mjob_05_22_19_12_28\u001b[m\u001b[m         \u001b[34mjob_05_28_07_50_10\u001b[m\u001b[m\r\n",
      "\u001b[34mjob_05_23_04_22_42\u001b[m\u001b[m         \u001b[34mjob_05_28_07_50_13\u001b[m\u001b[m\r\n",
      "\u001b[34mjob_05_23_10_16_58\u001b[m\u001b[m         \u001b[34mjob_05_28_07_50_27\u001b[m\u001b[m\r\n",
      "\u001b[34mjob_05_23_10_31_52\u001b[m\u001b[m         \u001b[34mjob_05_28_09_32_39\u001b[m\u001b[m\r\n",
      "\u001b[34mjob_05_23_10_56_58\u001b[m\u001b[m         \u001b[34mjob_05_28_11_39_48\u001b[m\u001b[m\r\n",
      "\u001b[34mjob_05_23_11_59_46\u001b[m\u001b[m         \u001b[34mjob_05_28_11_50_43\u001b[m\u001b[m\r\n",
      "\u001b[34mjob_05_23_12_41_26\u001b[m\u001b[m         \u001b[34mjob_05_28_13_53_37\u001b[m\u001b[m\r\n",
      "\u001b[34mjob_05_23_17_15_25\u001b[m\u001b[m         \u001b[34mjob_05_28_15_42_46\u001b[m\u001b[m\r\n",
      "\u001b[34mjob_05_23_17_37_25\u001b[m\u001b[m         \u001b[34mjob_05_28_15_56_40\u001b[m\u001b[m\r\n",
      "\u001b[34mjob_05_24_08_57_04\u001b[m\u001b[m         \u001b[34mjob_05_28_17_00_42\u001b[m\u001b[m\r\n",
      "\u001b[34mjob_05_24_11_03_07\u001b[m\u001b[m         \u001b[34mjob_05_28_18_45_33\u001b[m\u001b[m\r\n",
      "\u001b[34mjob_05_24_11_26_42\u001b[m\u001b[m         \u001b[34mjob_05_28_18_47_02\u001b[m\u001b[m\r\n",
      "\u001b[34mjob_05_25_08_46_27\u001b[m\u001b[m         \u001b[34mjob_05_28_19_47_35\u001b[m\u001b[m\r\n",
      "\u001b[34mjob_05_25_09_19_04\u001b[m\u001b[m         \u001b[34mjob_14:37:30\u001b[m\u001b[m\r\n",
      "\u001b[34mjob_05_25_09_21_11\u001b[m\u001b[m\r\n"
     ]
    }
   ],
   "source": [
    "!ls jobs\n"
   ]
  },
  {
   "cell_type": "code",
   "execution_count": 27,
   "id": "4561452e",
   "metadata": {},
   "outputs": [],
   "source": [
    "import pandas as pd\n",
    "import os\n",
    "import numpy as np"
   ]
  },
  {
   "cell_type": "code",
   "execution_count": 115,
   "id": "c3822f43",
   "metadata": {},
   "outputs": [],
   "source": [
    "job_list = [\"job_05_28_19_47_35\",\n",
    "            \"job_05_28_18_45_33\",\n",
    "            \"job_05_28_15_56_40\",\n",
    "            \"job_05_28_11_39_48\",\n",
    "            \"job_05_28_09_32_39\"\n",
    "           ]\n",
    "\n"
   ]
  },
  {
   "cell_type": "code",
   "execution_count": 124,
   "id": "e9d507bb",
   "metadata": {},
   "outputs": [],
   "source": [
    "job_list = [\"job_05_28_19_47_35\",\n",
    "            \"job_05_28_18_45_33\",\n",
    "            \"job_05_28_15_56_40\",\n",
    "            \"job_05_28_11_39_48\",\n",
    "            \"job_05_28_09_32_39\",\n",
    "            \"job_05_28_11_50_43\"\n",
    "           ]"
   ]
  },
  {
   "cell_type": "code",
   "execution_count": 78,
   "id": "9a0d59c5",
   "metadata": {},
   "outputs": [
    {
     "name": "stdout",
     "output_type": "stream",
     "text": [
      "29624\n",
      "31293\n",
      "29812\n",
      "30090\n"
     ]
    }
   ],
   "source": [
    "sum_pred = pd.read_csv(os.path.join(*[\"jobs\",\"job_05_28_19_47_35\",\"y_test.txt\"]),header=None)\n",
    "y_pred_1 = pd.read_csv(os.path.join(*[\"jobs\",\"job_05_28_19_47_35\",\"y_test.txt\"]),header=None)\n",
    "\n",
    "print(np.sum(sum_pred[0].values))\n",
    "\n",
    "for i in range(1,len(job_list)):\n",
    "    pred_job = pd.read_csv(os.path.join(*[\"jobs\",job_list[i],\"y_test.txt\"]),header=None)\n",
    "    print(np.sum(pred_job[0].values))\n",
    "    sum_pred = sum_pred+pred_job\n",
    "    \n",
    "y_pred = sum_pred[0].values\n",
    "print(y_pred)\n",
    "\n",
    "y_pred = (y_pred/5)*2-1.0\n",
    "y_pred = np.sign(y_pred)\n",
    "y_pred = np.maximum(y_pred,0.0)\n",
    "\n",
    "print(y_pred)\n",
    "\n",
    "result_str = \"\"\n",
    "for i in range(len(y_pred)):\n",
    "    result_str+=str(int(y_pred[i]))\n",
    "    result_str+=\"\\n\"\n",
    "\n",
    "result_file = open(\"y_test_2.txt\",\"w\")\n",
    "result_file.write(result_str)\n",
    "result_file.close()"
   ]
  },
  {
   "cell_type": "code",
   "execution_count": 116,
   "id": "d63c4899",
   "metadata": {},
   "outputs": [],
   "source": [
    "sum_dist = np.load(os.path.join(*[\"jobs\",\"job_05_28_18_45_33\",\"d_test_ep9.npy\"]))\n",
    "y_pred = dist[:,1]-dist[:,0]\n",
    "dist = np.load(os.path.join(*[\"jobs\",\"job_05_28_13_53_37\",\"d_test_epoch8.npy\"]))\n",
    "y_pred = dist[:,1]-dist[:,0]\n",
    "sum_dist = sum_dist+dist\n",
    "\n",
    "for i in range(0,len(job_list)):\n",
    "    dist = np.load(os.path.join(*[\"jobs\",job_list[i],\"d_test.npy\"]))\n",
    "    y_pred = dist[:,1]-dist[:,0]\n",
    "    sum_dist = sum_dist + dist\n",
    "\n",
    "dist = dist/8\n"
   ]
  },
  {
   "cell_type": "code",
   "execution_count": 125,
   "id": "24a122b5",
   "metadata": {},
   "outputs": [],
   "source": [
    "def d_2_y(dist):\n",
    "    y_pred = dist[:,1]-dist[:,0]\n",
    "    y_pred = np.sign(y_pred)\n",
    "    y_pred = np.maximum(y_pred,0.0)\n",
    "    return y_pred"
   ]
  },
  {
   "cell_type": "code",
   "execution_count": 130,
   "id": "d87bfdb0",
   "metadata": {},
   "outputs": [],
   "source": [
    "dist = np.load(os.path.join(*[\"jobs\",\"job_05_28_18_45_33\",\"d_test_ep9.npy\"]))\n",
    "sum_y_pred = d_2_y(dist)\n",
    "#dist = np.load(os.path.join(*[\"jobs\",\"job_05_28_13_53_37\",\"d_test_epoch8.npy\"]))\n",
    "#y_pred = d_2_y(dist)\n",
    "#sum_y_pred += y_pred\n",
    "\n",
    "for i in range(0,len(job_list)):\n",
    "    dist = np.load(os.path.join(*[\"jobs\",job_list[i],\"d_test.npy\"]))\n",
    "    y_pred = d_2_y(dist)\n",
    "    sum_y_pred += y_pred\n",
    "\n",
    "sum_y_pred = sum_y_pred/7\n",
    "\n"
   ]
  },
  {
   "cell_type": "code",
   "execution_count": 132,
   "id": "e00510a0",
   "metadata": {},
   "outputs": [],
   "source": [
    "sum_y_pred = sum_y_pred*2-1.0"
   ]
  },
  {
   "cell_type": "code",
   "execution_count": 134,
   "id": "d5f0332d",
   "metadata": {},
   "outputs": [],
   "source": [
    "y_pred = np.sign(sum_y_pred)\n",
    "y_pred = np.maximum(y_pred,0.0)"
   ]
  },
  {
   "cell_type": "code",
   "execution_count": 133,
   "id": "227dcaf7",
   "metadata": {},
   "outputs": [
    {
     "data": {
      "text/plain": [
       "array([ 0.42857143, -1.        , -0.71428571, ...,  0.14285714,\n",
       "        1.        , -0.42857143])"
      ]
     },
     "execution_count": 133,
     "metadata": {},
     "output_type": "execute_result"
    }
   ],
   "source": [
    "sum_y_pred"
   ]
  },
  {
   "cell_type": "code",
   "execution_count": 118,
   "id": "0dfc78f8",
   "metadata": {},
   "outputs": [],
   "source": []
  },
  {
   "cell_type": "code",
   "execution_count": 136,
   "id": "78021451",
   "metadata": {},
   "outputs": [
    {
     "data": {
      "text/plain": [
       "30364.0"
      ]
     },
     "execution_count": 136,
     "metadata": {},
     "output_type": "execute_result"
    }
   ],
   "source": [
    "np.sum(y_pred)"
   ]
  },
  {
   "cell_type": "code",
   "execution_count": 137,
   "id": "c49afbf1",
   "metadata": {},
   "outputs": [],
   "source": [
    "result_str = \"\"\n",
    "for i in range(len(y_pred)):\n",
    "    result_str+=str(int(y_pred[i]))\n",
    "    result_str+=\"\\n\"\n",
    "\n",
    "result_file = open(\"y_test_5.txt\",\"w\")\n",
    "result_file.write(result_str)\n",
    "result_file.close()"
   ]
  },
  {
   "cell_type": "code",
   "execution_count": 119,
   "id": "a0dfc81a",
   "metadata": {},
   "outputs": [],
   "source": [
    "y_pred = np.sign(y_pred)\n",
    "y_pred = np.maximum(y_pred,0.0)"
   ]
  },
  {
   "cell_type": "code",
   "execution_count": 120,
   "id": "8d1004b6",
   "metadata": {},
   "outputs": [
    {
     "name": "stdout",
     "output_type": "stream",
     "text": [
      "30090.0\n"
     ]
    }
   ],
   "source": [
    "print(np.sum(y_pred))"
   ]
  },
  {
   "cell_type": "code",
   "execution_count": 122,
   "id": "1e620c93",
   "metadata": {},
   "outputs": [
    {
     "name": "stdout",
     "output_type": "stream",
     "text": [
      "[0. 0. 1. ... 0. 1. 0.]\n"
     ]
    }
   ],
   "source": [
    "\n",
    "\n",
    "print(y_pred)\n",
    "\n",
    "result_str = \"\"\n",
    "for i in range(len(y_pred)):\n",
    "    result_str+=str(int(y_pred[i]))\n",
    "    result_str+=\"\\n\"\n",
    "\n",
    "result_file = open(\"y_test_4.txt\",\"w\")\n",
    "result_file.write(result_str)\n",
    "result_file.close()"
   ]
  },
  {
   "cell_type": "code",
   "execution_count": 80,
   "id": "f86f8be9",
   "metadata": {},
   "outputs": [
    {
     "name": "stdout",
     "output_type": "stream",
     "text": [
      "[3 0 1 ... 3 5 1]\n"
     ]
    }
   ],
   "source": []
  },
  {
   "cell_type": "code",
   "execution_count": 81,
   "id": "06b7cbc2",
   "metadata": {},
   "outputs": [],
   "source": []
  },
  {
   "cell_type": "code",
   "execution_count": 82,
   "id": "d6eb1ab2",
   "metadata": {},
   "outputs": [
    {
     "name": "stdout",
     "output_type": "stream",
     "text": [
      "[1. 0. 0. ... 1. 1. 0.]\n"
     ]
    }
   ],
   "source": []
  },
  {
   "cell_type": "code",
   "execution_count": 38,
   "id": "2a9ede32",
   "metadata": {},
   "outputs": [],
   "source": []
  },
  {
   "cell_type": "code",
   "execution_count": 92,
   "id": "4f108b05",
   "metadata": {},
   "outputs": [],
   "source": [
    "b = (y_pred_1.values).flatten()"
   ]
  },
  {
   "cell_type": "code",
   "execution_count": 93,
   "id": "57721fa4",
   "metadata": {},
   "outputs": [],
   "source": [
    "c = y_pred*b"
   ]
  },
  {
   "cell_type": "code",
   "execution_count": 94,
   "id": "90caf2c4",
   "metadata": {},
   "outputs": [
    {
     "data": {
      "text/plain": [
       "26412.0"
      ]
     },
     "execution_count": 94,
     "metadata": {},
     "output_type": "execute_result"
    }
   ],
   "source": [
    "np.sum(c)"
   ]
  },
  {
   "cell_type": "code",
   "execution_count": 95,
   "id": "f2cd3125",
   "metadata": {},
   "outputs": [],
   "source": []
  },
  {
   "cell_type": "code",
   "execution_count": 96,
   "id": "7ab6e310",
   "metadata": {},
   "outputs": [
    {
     "name": "stdout",
     "output_type": "stream",
     "text": [
      "Untitled.ipynb          iml4_colab_2305_2.ipynb task4_models.py\r\n",
      "\u001b[34m__pycache__\u001b[m\u001b[m             iml4_colab_2605.ipynb   task4_utils.py\r\n",
      "combine_preds.py        \u001b[34mjobs\u001b[m\u001b[m                    task4_utils.py.bk\r\n",
      "custom_objects.py       preprocessor.py         task4_utils.py.bk2\r\n",
      "custom_objects_2.py     snippets.py             y_test_2.txt\r\n",
      "\u001b[34mdata\u001b[m\u001b[m                    task4_2005.ipynb\r\n",
      "iml4_colab_2005.ipynb   task4_2005.py\r\n"
     ]
    }
   ],
   "source": [
    "!ls"
   ]
  }
 ],
 "metadata": {
  "kernelspec": {
   "display_name": "Python 3",
   "language": "python",
   "name": "python3"
  },
  "language_info": {
   "codemirror_mode": {
    "name": "ipython",
    "version": 3
   },
   "file_extension": ".py",
   "mimetype": "text/x-python",
   "name": "python",
   "nbconvert_exporter": "python",
   "pygments_lexer": "ipython3",
   "version": "3.6.10"
  }
 },
 "nbformat": 4,
 "nbformat_minor": 5
}
